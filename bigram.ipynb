{
 "cells": [
  {
   "cell_type": "code",
   "execution_count": 3,
   "id": "c9ea51a7",
   "metadata": {},
   "outputs": [],
   "source": [
    "data = open(\"Rapport.pgn\", \"r\").read()"
   ]
  },
  {
   "cell_type": "code",
   "execution_count": 4,
   "id": "f116db18",
   "metadata": {},
   "outputs": [],
   "source": [
    "DELIM = '|'\n",
    "chars = set(list(data))\n",
    "chars.add(DELIM)"
   ]
  },
  {
   "cell_type": "code",
   "execution_count": 5,
   "id": "17105d8b",
   "metadata": {},
   "outputs": [
    {
     "name": "stdout",
     "output_type": "stream",
     "text": [
      "|\n",
      "[Event \"16th Donau Open\"]\n",
      "[Site \"Aschach Donau AUT\"]\n",
      "[Date \"2007.12.27\"]\n",
      "[Round \"3\"]\n",
      "[White \"Rapport,R\"]\n",
      "[Black \"Danilov,I\"]\n",
      "[Result \"1/2-1/2\"]\n",
      "[WhiteElo \"2197\"]\n",
      "[BlackElo \"2414\"]\n",
      "[ECO \"C66\"]\n",
      "\n",
      "1.e4 e5 2.Nf3 Nc6 3.Bb5 a6 4.Ba4 d6 5.c3 Nf6 6.O-O Bd7 7.Re1 h6 8.d4 Qe7\n",
      "9.d5 Nd8 10.Nbd2 g6 11.Nf1 Bg7 12.Ng3 O-O 13.Bxd7 Nxd7 14.Nd2 Kh7 15.c4 Bf6\n",
      "16.Nf3 Bg5 17.Nxg5+ hxg5 18.Qg4 f6 19.h4 Nf7 20.h5 Nh6 21.hxg6+ Kg7 22.Nf5+ Nxf5\n",
      "23.exf5 Rh8 24.g3 Rh6 25.Be3 Rah8 26.Qe4 Rh2 27.Kf1 R8h3 28.g4 Qe8 29.Ke2 Qh8\n",
      "30.Rg1 Qh4 31.b4 b6 32.a4 a5 33.bxa5 Nc5 34.Bxc5 Rb3 35.Ra2 bxc5 36.Ke1 Qh3\n",
      "37.Ke2 Qc3 38.Rc2 Qxa5 39.Rh1 Rbh3 40.Rxh2 Rxh2 41.Kf3 Qxa4 42.Kg3 Rh8 43.Rc1 Qa3+\n",
      "44.Qe3 Qa2 45.Qc3 Ra8 46.Kg2 Qe2 47.Qf3 Qb2 48.Rh1 Ra3 49.Qd1 Qc3 50.Rh7+ Kg8\n",
      "51.Rh8+ Kg7 52.Rh7+ Kg8 53.Rh8+  1/2-1/2\n",
      "|\n"
     ]
    }
   ],
   "source": [
    "parts = data.split(\"\\n\\n\")\n",
    "games = [\"\\n\".join([DELIM, header, \"\", moves, DELIM]) for header, moves in zip(parts[::2], parts[1::2])]\n",
    "print(games[10])"
   ]
  },
  {
   "cell_type": "code",
   "execution_count": 6,
   "id": "343ee26f",
   "metadata": {},
   "outputs": [],
   "source": [
    "stoi = {c: i for i, c in enumerate(sorted(chars))}\n",
    "itos = {i: c for c, i in stoi.items()}\n",
    "\n",
    "DELIM_INT = stoi['|']"
   ]
  },
  {
   "cell_type": "code",
   "execution_count": 7,
   "id": "43483efe",
   "metadata": {},
   "outputs": [],
   "source": [
    "import torch\n",
    "\n",
    "order = len(chars)\n",
    "stoi = {c: i for i, c in enumerate(sorted(chars))}\n",
    "itos = {i: c for c, i in stoi.items()}\n",
    "\n",
    "N = torch.zeros(order, order, dtype=torch.int32)\n",
    "for item in games:\n",
    "    for x, y in zip(item, item[1:]):\n",
    "        N[stoi[x], stoi[y]] += 1"
   ]
  },
  {
   "cell_type": "code",
   "execution_count": 8,
   "id": "6946fa21",
   "metadata": {},
   "outputs": [
    {
     "data": {
      "text/plain": [
       "<matplotlib.image.AxesImage at 0x12342e9c0>"
      ]
     },
     "execution_count": 8,
     "metadata": {},
     "output_type": "execute_result"
    },
    {
     "data": {
      "image/png": "[encoded data removed]",
      "text/plain": [
       "<Figure size 640x480 with 1 Axes>"
      ]
     },
     "metadata": {},
     "output_type": "display_data"
    }
   ],
   "source": [
    "import matplotlib.pyplot as plt\n",
    "\n",
    "plt.imshow(N)"
   ]
  },
  {
   "cell_type": "code",
   "execution_count": 9,
   "id": "40e7ba5a",
   "metadata": {},
   "outputs": [],
   "source": [
    "P = (N+1).float()\n",
    "P /= P.sum(1, keepdim=True)"
   ]
  },
  {
   "cell_type": "code",
   "execution_count": 16,
   "id": "2ebe5b3a",
   "metadata": {},
   "outputs": [
    {
     "name": "stdout",
     "output_type": "stream",
     "text": [
      "\n",
      "301.Qe3.Qd4.Ne6 1412.Qc3 05.Bg19.Nxad201120.Kxbxd5 3260.Blt Ra327 Bllappo,Sa6 Ng7 2.Nck 3 2 Ba5+ 2.Qh4+ 18 c6 Rc6 d4\"]\n",
      "3 \"]\n",
      "27 2 4 Nb5.2 Qgulite3 Kf6 12.Bla5.Rb3 23.Blo d2 17 5 2 1-102-O-O KhiteEla8 6+ 6\n",
      "3 Rbxc20\"Kxa300-01\n",
      "[ECO 2-1.Kit,ac6 c4 4 Kd68\n",
      "10.1.e7 e7.f18.Bxf5 Nf37 Ne6.Qxd10.g1.Rc30.Rb6 15 Be1.h4.Bxg7.Rc4 Qxd20-OMe Rf6.Ra4 5.Kh5 Bd4 Nf45 Bd5 Bxe8 Kc4 h7 Bg6 Ke4 b6 Bhxb4 \"]\n",
      "19.Rxd8.Qat Rh,Rxckla3.Be \"2 1.10.Qe3 Rg47.Rxc3 \"]\n",
      "\n",
      "\n",
      "31/2+ \"]\n",
      "[Re6 Ra7 16 253 Nb7\n",
      "[D3.Rf18.Bb4719.Bxf6 Bf2.cxe4\n",
      "\n"
     ]
    }
   ],
   "source": [
    "# Generate a new PGN\n",
    "# Modify SEED to chang output\n",
    "\n",
    "SEED = 4\n",
    "generator = torch.Generator().manual_seed(SEED)\n",
    "\n",
    "pgn = \"\"\n",
    "\n",
    "ix = DELIM_INT\n",
    "while True:\n",
    "    p = P[ix]\n",
    "    ix = torch.multinomial(p, num_samples=1, replacement=True, generator=generator).item()\n",
    "    if ix == DELIM_INT:\n",
    "        break\n",
    "    pgn += itos[ix]\n",
    "\n",
    "print(pgn)\n"
   ]
  },
  {
   "cell_type": "code",
   "execution_count": 11,
   "id": "3cfeffb1",
   "metadata": {},
   "outputs": [
    {
     "name": "stdout",
     "output_type": "stream",
     "text": [
      "average_nll=2.1688690185546875\n"
     ]
    }
   ],
   "source": [
    "# Evaluate model with the negative log likelihood\n",
    "\n",
    "log_likelihood = 0\n",
    "num_bigrams = 0\n",
    "L = P.log()\n",
    "\n",
    "for item in games:\n",
    "    for x, y in zip(item, item[1:]):\n",
    "        log_likelihood += L[stoi[x], stoi[y]]\n",
    "        num_bigrams += 1\n",
    "\n",
    "average_nll = -(log_likelihood / num_bigrams).item()\n",
    "\n",
    "print(f'{average_nll=}')"
   ]
  },
  {
   "cell_type": "code",
   "execution_count": null,
   "id": "70b50873",
   "metadata": {},
   "outputs": [],
   "source": []
  }
 ],
 "metadata": {
  "kernelspec": {
   "display_name": ".venv",
   "language": "python",
   "name": "python3"
  },
  "language_info": {
   "codemirror_mode": {
    "name": "ipython",
    "version": 3
   },
   "file_extension": ".py",
   "mimetype": "text/x-python",
   "name": "python",
   "nbconvert_exporter": "python",
   "pygments_lexer": "ipython3",
   "version": "3.12.6"
  }
 },
 "nbformat": 4,
 "nbformat_minor": 5
}
