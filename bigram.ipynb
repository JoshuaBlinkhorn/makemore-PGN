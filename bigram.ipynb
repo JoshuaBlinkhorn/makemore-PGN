{
 "cells": [
  {
   "cell_type": "code",
   "execution_count": 1,
   "id": "c9ea51a7",
   "metadata": {},
   "outputs": [],
   "source": [
    "data = open(\"Rapport.pgn\", \"r\").read()"
   ]
  },
  {
   "cell_type": "code",
   "execution_count": 2,
   "id": "f116db18",
   "metadata": {},
   "outputs": [],
   "source": [
    "DELIM = '|'\n",
    "chars = set(list(data))\n",
    "chars.add(DELIM)"
   ]
  },
  {
   "cell_type": "code",
   "execution_count": 3,
   "id": "17105d8b",
   "metadata": {},
   "outputs": [
    {
     "name": "stdout",
     "output_type": "stream",
     "text": [
      "|\n",
      "[Event \"16th Donau Open\"]\n",
      "[Site \"Aschach Donau AUT\"]\n",
      "[Date \"2007.12.27\"]\n",
      "[Round \"3\"]\n",
      "[White \"Rapport,R\"]\n",
      "[Black \"Danilov,I\"]\n",
      "[Result \"1/2-1/2\"]\n",
      "[WhiteElo \"2197\"]\n",
      "[BlackElo \"2414\"]\n",
      "[ECO \"C66\"]\n",
      "\n",
      "1.e4 e5 2.Nf3 Nc6 3.Bb5 a6 4.Ba4 d6 5.c3 Nf6 6.O-O Bd7 7.Re1 h6 8.d4 Qe7\n",
      "9.d5 Nd8 10.Nbd2 g6 11.Nf1 Bg7 12.Ng3 O-O 13.Bxd7 Nxd7 14.Nd2 Kh7 15.c4 Bf6\n",
      "16.Nf3 Bg5 17.Nxg5+ hxg5 18.Qg4 f6 19.h4 Nf7 20.h5 Nh6 21.hxg6+ Kg7 22.Nf5+ Nxf5\n",
      "23.exf5 Rh8 24.g3 Rh6 25.Be3 Rah8 26.Qe4 Rh2 27.Kf1 R8h3 28.g4 Qe8 29.Ke2 Qh8\n",
      "30.Rg1 Qh4 31.b4 b6 32.a4 a5 33.bxa5 Nc5 34.Bxc5 Rb3 35.Ra2 bxc5 36.Ke1 Qh3\n",
      "37.Ke2 Qc3 38.Rc2 Qxa5 39.Rh1 Rbh3 40.Rxh2 Rxh2 41.Kf3 Qxa4 42.Kg3 Rh8 43.Rc1 Qa3+\n",
      "44.Qe3 Qa2 45.Qc3 Ra8 46.Kg2 Qe2 47.Qf3 Qb2 48.Rh1 Ra3 49.Qd1 Qc3 50.Rh7+ Kg8\n",
      "51.Rh8+ Kg7 52.Rh7+ Kg8 53.Rh8+  1/2-1/2\n",
      "|\n"
     ]
    }
   ],
   "source": [
    "parts = data.split(\"\\n\\n\")\n",
    "games = [\"\\n\".join([DELIM, header, \"\", moves, DELIM]) for header, moves in zip(parts[::2], parts[1::2])]\n",
    "print(games[10])"
   ]
  },
  {
   "cell_type": "code",
   "execution_count": 5,
   "id": "343ee26f",
   "metadata": {},
   "outputs": [],
   "source": [
    "stoi = {c: i for i, c in enumerate(sorted(chars))}\n",
    "itos = {i: c for c, i in stoi.items()}\n",
    "\n",
    "DELIM_INT = stoi['|']"
   ]
  },
  {
   "cell_type": "code",
   "execution_count": 6,
   "id": "43483efe",
   "metadata": {},
   "outputs": [],
   "source": [
    "import torch\n",
    "\n",
    "order = len(chars)\n",
    "stoi = {c: i for i, c in enumerate(sorted(chars))}\n",
    "itos = {i: c for c, i in stoi.items()}\n",
    "\n",
    "N = torch.zeros(order, order, dtype=torch.int32)\n",
    "for item in games:\n",
    "    for x, y in zip(item, item[1:]):\n",
    "        N[stoi[x], stoi[y]] += 1"
   ]
  },
  {
   "cell_type": "code",
   "execution_count": 7,
   "id": "6946fa21",
   "metadata": {},
   "outputs": [
    {
     "data": {
      "text/plain": [
       "<matplotlib.image.AxesImage at 0x123f94890>"
      ]
     },
     "execution_count": 7,
     "metadata": {},
     "output_type": "execute_result"
    },
    {
     "data": {
      "image/png": "[encoded data removed]",
      "text/plain": [
       "<Figure size 640x480 with 1 Axes>"
      ]
     },
     "metadata": {},
     "output_type": "display_data"
    }
   ],
   "source": [
    "import matplotlib.pyplot as plt\n",
    "\n",
    "plt.imshow(N)"
   ]
  },
  {
   "cell_type": "code",
   "execution_count": 13,
   "id": "40e7ba5a",
   "metadata": {},
   "outputs": [],
   "source": [
    "P = (N+1).float()\n",
    "P /= P.sum(1, keepdim=True)"
   ]
  },
  {
   "cell_type": "code",
   "execution_count": 14,
   "id": "2ebe5b3a",
   "metadata": {},
   "outputs": [
    {
     "name": "stdout",
     "output_type": "stream",
     "text": [
      "\n",
      "305 43 4.Qd Nch8.e 4 Rerapportenund2 Rhite2 \"Rf48 Qd5.Qxd650-O-Oppo \"]\n",
      "[Sh7.Bd23 Bd8+ Qxf4 9.ck Nfd1.0.Nf8.Nb3 Qd2.Bloulante53.f6 Bxc6 Nesulo NeElt 202 6 Opo 3 26 2.b3.fd66 \"]\n",
      "1.Kckuk Rhxdxg6 and7\"2\"]\n",
      "\n",
      "1/2  Qc6 2 Kf56 \"2\"]\n",
      "18.Qxc4 O-O 4 Rhxc6.Kd5 Kb8 Yate Bexg41 2 3 2.Rxd4.Kfe3 \"]\n",
      "1.at Ro g25 19.Rxg4 Nxc6 \"28 7.Qg4.Bd4 Nd2 \"]\n",
      "[Rxd2.KxckEla5 4 Bd1-11/25  23+ b7.02.f4 Q Nd5 1\"]\n",
      "[Eve6.Bloulac5 33 \"Bxd2.Kf6 Qxf18.Ne Bd5.Bloppoud  Kg4+ Bc6 8 Nf6.c4 218.Nf1-A\"RBf6+ Bitapppporl 18 Qxck c6 28.Bxh6\n",
      "3.Qxb26 4.d7 1.Rxf3.Nxd3 df4.f32.Bgxa4 \"Rc3.d8+ 5 4 5+ 7 c4.b1\n",
      "20.Bg6.gxe5 Blte7 4 Re \"]\n",
      "[Ramate2.Be 1 2.2-110\"Maxa6\"]\n",
      "[Whid4\"]\n",
      "\n",
      "[Dagxc5 R5+ Nc3 Qxf34 Rf4\n",
      "[Wa6 Rxf31 20.5 Rd 3.Bd2.d49.Rb1.b5 Be1\n",
      "5 c3.Nd1 Nb1.Qd20.fxeEv c6.ckECung7 Bxb6.e4 4 b5 Bg16 Rbxc2.18 O \"Sit Qc3 \"1  Bxd6 \"CO-O e34 BlKf55.Ne40-2 4 \"8.Nc8+ 25 \"]\n",
      "5 5 Bb4 2\n",
      "\n",
      "9.Kd6 17 \"1107 Qe7.Bd2.Qb4\"]\n",
      "[Sidd129.KeE92 Rxe27 2.Rh7\n",
      "[EC0\"]\n",
      "[Elo Bxf26 Ela35 \"2.Khe1.Nd18 a7 Ne 3.Qd74 4 g76\"]\n",
      "[Wh4\"1.Bb5 d6.Kf26 Qf8.Rxd4\n",
      "3 Bxe6 Ncxc40.Qe7 7 3.d6017 5.c5.Nf2.Qerack c4 \"]\n",
      "[Elo b36 Qd7.f6 RMound7020.Nc33.Bd 3\"Alound6.Bxd8 1.Roulont Bd Khxd 30.Kd4 38 2 2.f4 \"Rxeb3.Qexc5 34 Re3 O Rf33 GEve4 \"R\"]\n",
      "[Whit,Rate41+\"1\"26\"18 26 Nf56.Kh3 Rand1 6.h4.Rxc4 Nf6.O Bc4.0.Rda6\n",
      "19\"Rg8.Qe2+ 7.Qxg65 \"Rxg627 7 Nf5 Rac5 3+\n",
      "[Rb4.Qb8 4\"Ch7.Nc2 42 Rb1.Nc5 Rf5 Qdd5 4\n",
      "4 Ne5.Rf7 f1 Rxe5 Rxe28.Qxb3\"2\"29.Qd 16 Bxd24+ \"1 4 IElackElac8 Na2.Re e7 apo Rg 7 Ke2 34\n",
      "[Blte aloriPage60\"1 \"29.Kd4.Bg35 35 102 234 Rara25\n",
      "3 17 Sit,Rb8.Kf523 1+ 1 1.Rc5 18 Kd4106 Da6.2\n",
      "1 \"]\n",
      "[Ra6 13 d7.8 1 Blac27 Rc 23 2+ 1.d45.Kg4.Nf6 6 I(R\"]\n",
      "1 1.Qd4 Ne3 4.c4 \"18 b4\n",
      "[ECHo8.Bc2 1 9.Qxestz Re4 O \"]\n",
      "[Wh4.b2 Rg27 4 3+ Bd8.b1.eloUZundf5 9.Rac3 Ra1 2\n",
      "[Roulouk 2.Nd5.Bc5 108.Kc1\n",
      "\n",
      "[Bb8.Qxg8.d Rxensug1\"F\"2.Bc4.Nf4.RapBa6 4 D\"GEnd7 24 5 \"2.f37 4 3 44 7 Be15 O Ke3 60.Kxd3 gf5 gulalat,Rf3 d 30.Bla5.ate1.Bhisund76 Bf434 Rd25 \"Wh7 5 4 1.O 5.Ng5.Rb5 8 Re6 Nc6 1/27 Ra8 a64 6.Kxe8 Bxb4\"]\n",
      "1526\n",
      "[Eve4 4 Qb1.Ke4\"Sisula412 Bf4 Re4 22 5333 3 5 Qxc1.Nhit h4.a3 Kxb5 Re Nf5 Nc4 Kf1-126 f1.Kb5 5 7 f3+ 3 \"]\n",
      "[Bd4 8.Nb5.d3 25 2\"]\n",
      "[Rg62 1\"]\n",
      "3.Keve4 \"2.g40-A0.Bla6\n",
      "4 b4 Rxdxf3.Nent Nxd2.1.Bxd6.Qe646 8 59.Rexdeb29.Kg3 3\"Site7.Kerb4 Kf7 6 35\n",
      "[Ra220.Be4 c20.R\"SA010.Ne20.Rasunt Qc7 16\"6 Qxdxf3 1+ 1.Nd1.Qa8.Nbxc37 3+ 2\"]\n",
      "[Re8 Ne8\"Bxe2.215.exd7 Qbb7.Rb701.Nxg404.Nc8 Qb4\n",
      "1\"]\n",
      "25\"]\n",
      "[Ela8.Bla6 TCaport Be7 \"]\n",
      "30\"Rd g13 \"5 4 Bxd5 23.Rorulac6 4 3 Nxf5.R\"]\n",
      "[Wh3.ack \"2.a3 e 11.Kg42 GE Ke3 N6 7.Nd4 6 Rd31/2315 \"]\n",
      "[Dag2.hc5 1227.Qab7 1-17.h8 c2+ Qc1.Bf25+ 1 3.Ne4+ hiss.Qg5 2+ 2012 b42 fd6232\"8 e6 Kgf4 b2 Qd5+ Bc5 Qdd8.Nf3 Ne7\"]\n",
      "[Bg2 f4 Kf6 Nd4 6 Ng4 Bxh1/2\"]\n",
      "25 \"]\n",
      "[Bb7\"]\n",
      "3 6.g73.f3 O-17 22.c4.Rxf3.b35 Bxb6 Bxe6\n",
      "3 Qc52-O-O-101 1Ante35 2\"CO \"24 21 9.Ke6 \"R\"2 7 Nc7.Ra6 Kb1\n",
      "201.O-O Kgxe1.Rgxg6 Rh2 g6 2\"0.Qend g1 h40\n",
      "[Bd7 Bxb8\n",
      "4 R\"A6 g3.Nf50-Sijape7 and7\n",
      "[Bb2\n",
      "[W\"Ra48+ Kgxb407.e5\"2\"20\"]\n",
      "[EltackERd5\"]\n",
      "25.Bxf2\"c68 Res Kxckajd8.Be4 Re 2 b6\"]\n",
      "[DorapppomeE\"]\n",
      "\n"
     ]
    }
   ],
   "source": [
    "# Generate a new PGN\n",
    "# Modify SEED to chang output\n",
    "\n",
    "SEED = 0\n",
    "generator = torch.Generator().manual_seed(SEED)\n",
    "\n",
    "pgn = \"\"\n",
    "\n",
    "ix = DELIM_INT\n",
    "while True:\n",
    "    #p = N[ix].float()\n",
    "    #p = p / p.sum()\n",
    "    p = P[ix]\n",
    "    ix = torch.multinomial(p, num_samples=1, replacement=True, generator=generator).item()\n",
    "    if ix == DELIM_INT:\n",
    "        break\n",
    "    pgn += itos[ix]\n",
    "\n",
    "print(pgn)\n"
   ]
  },
  {
   "cell_type": "code",
   "execution_count": 15,
   "id": "3cfeffb1",
   "metadata": {},
   "outputs": [
    {
     "name": "stdout",
     "output_type": "stream",
     "text": [
      "average_nll=2.1688690185546875\n"
     ]
    }
   ],
   "source": [
    "# Evaluate model with the negative log likelihood\n",
    "\n",
    "log_likelihood = 0\n",
    "num_bigrams = 0\n",
    "L = P.log()\n",
    "\n",
    "for item in games:\n",
    "    for x, y in zip(item, item[1:]):\n",
    "        log_likelihood += L[stoi[x], stoi[y]]\n",
    "        num_bigrams += 1\n",
    "\n",
    "average_nll = -(log_likelihood / num_bigrams).item()\n",
    "\n",
    "print(f'{average_nll=}')"
   ]
  }
 ],
 "metadata": {
  "kernelspec": {
   "display_name": ".venv",
   "language": "python",
   "name": "python3"
  },
  "language_info": {
   "codemirror_mode": {
    "name": "ipython",
    "version": 3
   },
   "file_extension": ".py",
   "mimetype": "text/x-python",
   "name": "python",
   "nbconvert_exporter": "python",
   "pygments_lexer": "ipython3",
   "version": "3.12.6+"
  }
 },
 "nbformat": 4,
 "nbformat_minor": 5
}
